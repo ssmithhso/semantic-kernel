{
 "cells": [
  {
   "attachments": {},
   "cell_type": "markdown",
   "id": "fde98ddf",
   "metadata": {},
   "source": [
    "# Creating a basic chat experience with kernel arguments\n",
    "\n",
    "In this example, we show how you can build a simple chat bot by sending and updating the kernel arguments with your requests. \n",
    "\n",
    "We introduce the Kernel Arguments object which in this demo functions similarly as a key-value store that you can use when running the kernel.\n",
    "\n",
    "The chat history is local (i.e. in your computer's RAM) and not persisted anywhere beyond the life of this Jupyter session.\n",
    "\n",
    "In future examples, we will show how to persist the chat history on disk so that you can bring it into your applications.  \n",
    "\n",
    "In this chat scenario, as the user talks back and forth with the bot, the chat context gets populated with the history of the conversation. During each new run of the kernel, the kernel arguments and chat history can provide the AI with its variables' content. "
   ]
  },
  {
   "cell_type": "code",
   "execution_count": null,
   "id": "92f69b34",
   "metadata": {},
   "outputs": [],
   "source": [
    "!python -m pip install semantic-kernel==0.9.4b1"
   ]
  },
  {
   "cell_type": "code",
   "execution_count": 1,
   "id": "0a235b31",
   "metadata": {},
   "outputs": [],
   "source": [
    "from services import Service\n",
    "\n",
    "# Select a service to use for this notebook (available services: OpenAI, AzureOpenAI, HuggingFace)\n",
    "selectedService = Service.AzureOpenAI"
   ]
  },
  {
   "cell_type": "code",
   "execution_count": 2,
   "id": "68301108",
   "metadata": {},
   "outputs": [],
   "source": [
    "import semantic_kernel as sk\n",
    "import semantic_kernel.connectors.ai.open_ai as sk_oai\n",
    "from semantic_kernel.prompt_template.input_variable import InputVariable\n",
    "from semantic_kernel.contents.chat_history import ChatHistory\n",
    "from semantic_kernel.functions.kernel_arguments import KernelArguments\n",
    "\n",
    "kernel = sk.Kernel()\n",
    "\n",
    "\n",
    "from semantic_kernel.connectors.ai.open_ai import AzureChatCompletion\n",
    "\n",
    "deployment, api_key, endpoint = sk.azure_openai_settings_from_dot_env()\n",
    "service_id = \"aoai_chat_completion\"\n",
    "kernel.add_service(\n",
    "    AzureChatCompletion(service_id=service_id, deployment_name=deployment, endpoint=endpoint, api_key=api_key),\n",
    ")"
   ]
  },
  {
   "attachments": {},
   "cell_type": "markdown",
   "id": "7971783d",
   "metadata": {},
   "source": [
    "Let's define a prompt outlining a dialogue chat bot."
   ]
  },
  {
   "cell_type": "code",
   "execution_count": 3,
   "id": "e84a05fc",
   "metadata": {},
   "outputs": [],
   "source": [
    "prompt = \"\"\"\n",
    "ChatBot can have a conversation with you about any topic.\n",
    "It can give explicit instructions or say 'I don't know' if it does not have an answer.\n",
    "\n",
    "{{$history}}\n",
    "User: {{$user_input}}\n",
    "ChatBot: \"\"\""
   ]
  },
  {
   "attachments": {},
   "cell_type": "markdown",
   "id": "61716b16",
   "metadata": {},
   "source": [
    "Register your semantic function"
   ]
  },
  {
   "cell_type": "code",
   "execution_count": 5,
   "id": "a3e4b160",
   "metadata": {},
   "outputs": [],
   "source": [
    "if selectedService == Service.OpenAI:\n",
    "    execution_settings = sk_oai.OpenAIChatPromptExecutionSettings(\n",
    "        service_id=service_id,\n",
    "        ai_model_id=\"gpt-3.5-turbo-1106\",\n",
    "        max_tokens=2000,\n",
    "        temperature=0.7,\n",
    "    )\n",
    "elif selectedService == Service.AzureOpenAI:\n",
    "    execution_settings = sk_oai.OpenAIChatPromptExecutionSettings(\n",
    "        service_id=service_id,\n",
    "        ai_model_id=deployment,\n",
    "        max_tokens=2000,\n",
    "        temperature=0.7,\n",
    "    )\n",
    "\n",
    "prompt_template_config = sk.PromptTemplateConfig(\n",
    "    template=prompt,\n",
    "    name=\"chat\",\n",
    "    template_format=\"semantic-kernel\",\n",
    "    input_variables=[\n",
    "        InputVariable(name=\"input\", description=\"The user input\", is_required=True),\n",
    "        InputVariable(name=\"history\", description=\"The conversation history\", is_required=True),\n",
    "    ],\n",
    "    execution_settings=execution_settings,\n",
    ")\n",
    "\n",
    "chat_function = kernel.create_function_from_prompt(function_name=\"chat\",plugin_name=\"chat\",function=\"prompt\",prompt_template_config=prompt_template_config)"
   ]
  },
  {
   "cell_type": "code",
   "execution_count": 6,
   "id": "6a0f7c01",
   "metadata": {},
   "outputs": [],
   "source": [
    "chat_history = ChatHistory()\n",
    "chat_history.add_system_message(\"You are a helpful chatbot who is good about giving book recommendations.\")"
   ]
  },
  {
   "attachments": {},
   "cell_type": "markdown",
   "id": "6e8a676f",
   "metadata": {},
   "source": [
    "Initialize the Kernel Arguments"
   ]
  },
  {
   "cell_type": "code",
   "execution_count": 7,
   "id": "a4be7394",
   "metadata": {},
   "outputs": [],
   "source": [
    "arguments = KernelArguments(user_input=\"Hi, I'm looking for book suggestions\", history=chat_history)"
   ]
  },
  {
   "attachments": {},
   "cell_type": "markdown",
   "id": "4ce7c497",
   "metadata": {},
   "source": [
    "Chat with the Bot"
   ]
  },
  {
   "cell_type": "code",
   "execution_count": 8,
   "id": "5ec41eb8",
   "metadata": {},
   "outputs": [
    {
     "name": "stdout",
     "output_type": "stream",
     "text": [
      "Hello! I'd be happy to help. Could you please tell me what genre or type of book you're interested in? For example, are you looking for fiction, non-fiction, mystery, fantasy, romance, or something else?\n"
     ]
    }
   ],
   "source": [
    "response = await kernel.invoke(chat_function, arguments)\n",
    "print(response)"
   ]
  },
  {
   "attachments": {},
   "cell_type": "markdown",
   "id": "a5b03748",
   "metadata": {},
   "source": [
    "Update the history with the output"
   ]
  },
  {
   "cell_type": "code",
   "execution_count": 9,
   "id": "f50f517d",
   "metadata": {},
   "outputs": [],
   "source": [
    "chat_history.add_assistant_message(str(response))"
   ]
  },
  {
   "cell_type": "code",
   "execution_count": 10,
   "id": "d93f1678",
   "metadata": {},
   "outputs": [
    {
     "name": "stdout",
     "output_type": "stream",
     "text": [
      "<chat_history><message role=\"system\">You are a helpful chatbot who is good about giving book recommendations.</message><message role=\"assistant\">Hello! I'd be happy to help. Could you please tell me what genre or type of book you're interested in? For example, are you looking for fiction, non-fiction, mystery, fantasy, romance, or something else?</message></chat_history>\n"
     ]
    }
   ],
   "source": [
    "print(chat_history)"
   ]
  },
  {
   "attachments": {},
   "cell_type": "markdown",
   "id": "23a2eb02",
   "metadata": {},
   "source": [
    "Keep Chatting!"
   ]
  },
  {
   "cell_type": "code",
   "execution_count": 11,
   "id": "c59efe45",
   "metadata": {},
   "outputs": [],
   "source": [
    "async def chat(input_text: str) -> None:\n",
    "    # Save new message in the context variables\n",
    "    print(f\"User: {input_text}\")\n",
    "    chat_history.add_user_message(input_text)\n",
    "\n",
    "    # Process the user message and get an answer\n",
    "    answer = await kernel.invoke(chat_function, KernelArguments(user_input=input_text, history=chat_history))\n",
    "\n",
    "    # Show the response\n",
    "    print(f\"ChatBot: {answer}\")\n",
    "\n",
    "    chat_history.add_assistant_message(str(answer))"
   ]
  },
  {
   "cell_type": "code",
   "execution_count": 12,
   "id": "06ee244e",
   "metadata": {},
   "outputs": [
    {
     "name": "stdout",
     "output_type": "stream",
     "text": [
      "User: I love history and philosophy, I'd like to learn something new about Greece, any suggestion?\n",
      "ChatBot: Absolutely, here are a few book recommendations that blend history, philosophy, and Greece:\n",
      "\n",
      "1. **\"The Histories\" by Herodotus** - Often called the father of history, Herodotus gives a rich account of the Greco-Persian wars.\n",
      "\n",
      "2. **\"The Iliad and The Odyssey\" by Homer** - These epic poems are fundamental to the western canon and are a must-read for anyone interested in Greek history or philosophy. \n",
      "\n",
      "3. **\"The Peloponnesian War\" by Thucydides** - This is a historical account of the Peloponnesian War (431–404 BC), which was fought between the Peloponnesian League (led by Sparta) and the Delian League (led by Athens).\n",
      "\n",
      "4. **\"The Last Days of Socrates\" by Plato** - This book contains the dialogues Euthyphro, Apology, Crito, and Phaedo, all of which focus on the days leading up to Socrates' death.\n",
      "\n",
      "5. **\"Alexander of Macedon, 356-323 B.C.: A Historical Biography\" by Peter Green** - This biography gives a comprehensive look into Alexander the Great's life and his impact on Greece and the rest of the world.\n",
      "\n",
      "6. **\"Greek Philosophy: Thales to Aristotle\" by Reginald E. Allen** - A comprehensive overview of the major philosophical schools and figures from ancient Greece.\n",
      "\n",
      "Please remember that these are just a few suggestions, and there are many other excellent books out there on the topic!\n"
     ]
    }
   ],
   "source": [
    "await chat(\"I love history and philosophy, I'd like to learn something new about Greece, any suggestion?\")"
   ]
  },
  {
   "cell_type": "code",
   "execution_count": 13,
   "id": "82be4e7e",
   "metadata": {},
   "outputs": [
    {
     "name": "stdout",
     "output_type": "stream",
     "text": [
      "User: that sounds interesting, what is it about?\n",
      "ChatBot: I'm glad you found the suggestions interesting! Here's a little more about each book:\n",
      "\n",
      "1. **\"The Histories\" by Herodotus** - This book is considered the first work of history in Western literature. It covers the events of the Greco-Persian Wars and also delves into the cultures and geography of the time. \n",
      "\n",
      "2. **\"The Iliad and The Odyssey\" by Homer** - \"The Iliad\" is an epic poem set during the Trojan War, the siege of Troy by a coalition of Greek states. It focuses on the hero Achilles. \"The Odyssey\" is about the hero Odysseus's journey home after the Trojan War.\n",
      "\n",
      "3. **\"The Peloponnesian War\" by Thucydides** - This is a historical account of the 27-year war between Sparta and Athens, and it offers valuable insights into ancient warfare, politics, and power struggles.\n",
      "\n",
      "4. **\"The Last Days of Socrates\" by Plato** - This book is a series of dialogues, which include Socrates's trial and his arguments about the nature of death and the immortality of the soul.\n",
      "\n",
      "5. **\"Alexander of Macedon, 356-323 B.C.: A Historical Biography\" by Peter Green** - This biography covers Alexander the Great's life, from his childhood to his death, and his campaigns which created one of the largest empires in the world.\n",
      "\n",
      "6. **\"Greek Philosophy: Thales to Aristotle\" by Reginald E. Allen** - This book offers a comprehensive introduction to the major philosophers of ancient Greece, from the pre-Socratics to Aristotle, and explores their main ideas about the nature of the universe, the nature of man, ethics, and more.\n"
     ]
    }
   ],
   "source": [
    "await chat(\"that sounds interesting, what is it about?\")"
   ]
  },
  {
   "cell_type": "code",
   "execution_count": 14,
   "id": "82fe0139",
   "metadata": {},
   "outputs": [
    {
     "name": "stdout",
     "output_type": "stream",
     "text": [
      "User: if I read The Histories by Herodotus book, what exactly will I learn about Greek history?\n",
      "ChatBot: \"The Histories\" by Herodotus is an extensive work and one of the world's earliest comprehensive histories. Here are some of the things you'll learn about:\n",
      "\n",
      "1. **Background of the Persian Empire**: Herodotus provides a detailed account of the growth of the Persian Empire, its leaders such as Cyrus the Great, Cambyses, and Darius, and the various nations they conquered.\n",
      "\n",
      "2. **Greco-Persian Wars**: This is the main focus of \"The Histories\". Herodotus chronicles the conflicts between the Persian Empire and the Greek city-states, including the famous battles of Marathon, Thermopylae, and Salamis.\n",
      "\n",
      "3. **Geography and Ethnography**: Herodotus describes the lands and cultures of both the Greeks and Persians, along with those of other peoples such as the Egyptians and Scythians. His descriptions are a mix of fact, folklore, and personal observation.\n",
      "\n",
      "4. **Customs and Practices**: The book provides insight into the customs, practices, and beliefs of the ancient Greeks and the peoples with whom they interacted. \n",
      "\n",
      "5. **Political Systems**: You'll learn about the political systems of the time, including the democratic system of Athens and the monarchy of Persia.\n",
      "\n",
      "6. **Historical Inquiry and Storytelling**: Reading \"The Histories\" also gives you an appreciation for Herodotus as a historian. His method of inquiry, his narrative style, and his knack for storytelling are all fascinating in their own right.\n",
      "\n",
      "Remember, while Herodotus is a crucial source for this period, his accounts sometimes mix fact with myth and interpretation, so it's always a good idea to read his work alongside more modern historical analysis.\n"
     ]
    }
   ],
   "source": [
    "await chat(\"if I read The Histories by Herodotus book, what exactly will I learn about Greek history?\")"
   ]
  },
  {
   "cell_type": "code",
   "execution_count": 15,
   "id": "55b3a9f2",
   "metadata": {},
   "outputs": [
    {
     "name": "stdout",
     "output_type": "stream",
     "text": [
      "User: could you list some more books I could read about this topic?\n",
      "ChatBot: Of course! Here are a few more books that provide different perspectives and additional information on Greek history and philosophy:\n",
      "\n",
      "1. **\"Persian Fire: The First World Empire and the Battle for the West\" by Tom Holland** - This book provides an in-depth view of the Persian Empire and the wars with Greece from the Persian perspective.\n",
      "\n",
      "2. **\"The Oresteia\" by Aeschylus** - A trilogy of Greek tragedies that tells the end of the curse on the House of Atreus.\n",
      "\n",
      "3. **\"The Republic\" by Plato** - One of the most influential works in philosophy, this book contains discussions on justice, the just man, and the just city-state.\n",
      "\n",
      "4. **\"The Nicomachean Ethics\" by Aristotle** - This work by Aristotle examines various areas of life and provides practical advice on how to lead a good life.\n",
      "\n",
      "5. **\"The Rise and Fall of Athens: Nine Greek Lives by Plutarch\"** - These biographies provide valuable insight into the period of Greek history known as \"The Age of Pericles.\"\n",
      "\n",
      "6. **\"The World of Odysseus\" by M.I. Finley** - This book is a study of social and economic life in Homeric times.\n",
      "\n",
      "7. **\"A War Like No Other: How the Athenians and Spartans Fought the Peloponnesian War\" by Victor Davis Hanson** - This book provides a military history of the Peloponnesian War.\n",
      "\n",
      "Remember, each of these books offers a unique perspective, and reading broadly will help you gain a more comprehensive understanding of Greek history and philosophy.\n"
     ]
    }
   ],
   "source": [
    "await chat(\"could you list some more books I could read about this topic?\")"
   ]
  },
  {
   "attachments": {},
   "cell_type": "markdown",
   "id": "c30bac97",
   "metadata": {},
   "source": [
    "After chatting for a while, we have built a growing history, which we are attaching to each prompt and which contains the full conversation. Let's take a look!"
   ]
  },
  {
   "cell_type": "code",
   "execution_count": 16,
   "id": "5e34ae55",
   "metadata": {},
   "outputs": [
    {
     "name": "stdout",
     "output_type": "stream",
     "text": [
      "<chat_history><message role=\"system\">You are a helpful chatbot who is good about giving book recommendations.</message><message role=\"assistant\">Hello! I'd be happy to help. Could you please tell me what genre or type of book you're interested in? For example, are you looking for fiction, non-fiction, mystery, fantasy, romance, or something else?</message><message role=\"user\">I love history and philosophy, I'd like to learn something new about Greece, any suggestion?</message><message role=\"assistant\">Absolutely, here are a few book recommendations that blend history, philosophy, and Greece:\n",
      "\n",
      "1. **\"The Histories\" by Herodotus** - Often called the father of history, Herodotus gives a rich account of the Greco-Persian wars.\n",
      "\n",
      "2. **\"The Iliad and The Odyssey\" by Homer** - These epic poems are fundamental to the western canon and are a must-read for anyone interested in Greek history or philosophy. \n",
      "\n",
      "3. **\"The Peloponnesian War\" by Thucydides** - This is a historical account of the Peloponnesian War (431–404 BC), which was fought between the Peloponnesian League (led by Sparta) and the Delian League (led by Athens).\n",
      "\n",
      "4. **\"The Last Days of Socrates\" by Plato** - This book contains the dialogues Euthyphro, Apology, Crito, and Phaedo, all of which focus on the days leading up to Socrates' death.\n",
      "\n",
      "5. **\"Alexander of Macedon, 356-323 B.C.: A Historical Biography\" by Peter Green** - This biography gives a comprehensive look into Alexander the Great's life and his impact on Greece and the rest of the world.\n",
      "\n",
      "6. **\"Greek Philosophy: Thales to Aristotle\" by Reginald E. Allen** - A comprehensive overview of the major philosophical schools and figures from ancient Greece.\n",
      "\n",
      "Please remember that these are just a few suggestions, and there are many other excellent books out there on the topic!</message><message role=\"user\">that sounds interesting, what is it about?</message><message role=\"assistant\">I'm glad you found the suggestions interesting! Here's a little more about each book:\n",
      "\n",
      "1. **\"The Histories\" by Herodotus** - This book is considered the first work of history in Western literature. It covers the events of the Greco-Persian Wars and also delves into the cultures and geography of the time. \n",
      "\n",
      "2. **\"The Iliad and The Odyssey\" by Homer** - \"The Iliad\" is an epic poem set during the Trojan War, the siege of Troy by a coalition of Greek states. It focuses on the hero Achilles. \"The Odyssey\" is about the hero Odysseus's journey home after the Trojan War.\n",
      "\n",
      "3. **\"The Peloponnesian War\" by Thucydides** - This is a historical account of the 27-year war between Sparta and Athens, and it offers valuable insights into ancient warfare, politics, and power struggles.\n",
      "\n",
      "4. **\"The Last Days of Socrates\" by Plato** - This book is a series of dialogues, which include Socrates's trial and his arguments about the nature of death and the immortality of the soul.\n",
      "\n",
      "5. **\"Alexander of Macedon, 356-323 B.C.: A Historical Biography\" by Peter Green** - This biography covers Alexander the Great's life, from his childhood to his death, and his campaigns which created one of the largest empires in the world.\n",
      "\n",
      "6. **\"Greek Philosophy: Thales to Aristotle\" by Reginald E. Allen** - This book offers a comprehensive introduction to the major philosophers of ancient Greece, from the pre-Socratics to Aristotle, and explores their main ideas about the nature of the universe, the nature of man, ethics, and more.</message><message role=\"user\">if I read The Histories by Herodotus book, what exactly will I learn about Greek history?</message><message role=\"assistant\">\"The Histories\" by Herodotus is an extensive work and one of the world's earliest comprehensive histories. Here are some of the things you'll learn about:\n",
      "\n",
      "1. **Background of the Persian Empire**: Herodotus provides a detailed account of the growth of the Persian Empire, its leaders such as Cyrus the Great, Cambyses, and Darius, and the various nations they conquered.\n",
      "\n",
      "2. **Greco-Persian Wars**: This is the main focus of \"The Histories\". Herodotus chronicles the conflicts between the Persian Empire and the Greek city-states, including the famous battles of Marathon, Thermopylae, and Salamis.\n",
      "\n",
      "3. **Geography and Ethnography**: Herodotus describes the lands and cultures of both the Greeks and Persians, along with those of other peoples such as the Egyptians and Scythians. His descriptions are a mix of fact, folklore, and personal observation.\n",
      "\n",
      "4. **Customs and Practices**: The book provides insight into the customs, practices, and beliefs of the ancient Greeks and the peoples with whom they interacted. \n",
      "\n",
      "5. **Political Systems**: You'll learn about the political systems of the time, including the democratic system of Athens and the monarchy of Persia.\n",
      "\n",
      "6. **Historical Inquiry and Storytelling**: Reading \"The Histories\" also gives you an appreciation for Herodotus as a historian. His method of inquiry, his narrative style, and his knack for storytelling are all fascinating in their own right.\n",
      "\n",
      "Remember, while Herodotus is a crucial source for this period, his accounts sometimes mix fact with myth and interpretation, so it's always a good idea to read his work alongside more modern historical analysis.</message><message role=\"user\">could you list some more books I could read about this topic?</message><message role=\"assistant\">Of course! Here are a few more books that provide different perspectives and additional information on Greek history and philosophy:\n",
      "\n",
      "1. **\"Persian Fire: The First World Empire and the Battle for the West\" by Tom Holland** - This book provides an in-depth view of the Persian Empire and the wars with Greece from the Persian perspective.\n",
      "\n",
      "2. **\"The Oresteia\" by Aeschylus** - A trilogy of Greek tragedies that tells the end of the curse on the House of Atreus.\n",
      "\n",
      "3. **\"The Republic\" by Plato** - One of the most influential works in philosophy, this book contains discussions on justice, the just man, and the just city-state.\n",
      "\n",
      "4. **\"The Nicomachean Ethics\" by Aristotle** - This work by Aristotle examines various areas of life and provides practical advice on how to lead a good life.\n",
      "\n",
      "5. **\"The Rise and Fall of Athens: Nine Greek Lives by Plutarch\"** - These biographies provide valuable insight into the period of Greek history known as \"The Age of Pericles.\"\n",
      "\n",
      "6. **\"The World of Odysseus\" by M.I. Finley** - This book is a study of social and economic life in Homeric times.\n",
      "\n",
      "7. **\"A War Like No Other: How the Athenians and Spartans Fought the Peloponnesian War\" by Victor Davis Hanson** - This book provides a military history of the Peloponnesian War.\n",
      "\n",
      "Remember, each of these books offers a unique perspective, and reading broadly will help you gain a more comprehensive understanding of Greek history and philosophy.</message></chat_history>\n"
     ]
    }
   ],
   "source": [
    "print(chat_history)"
   ]
  }
 ],
 "metadata": {
  "kernelspec": {
   "display_name": "Python 3 (ipykernel)",
   "language": "python",
   "name": "python3"
  },
  "language_info": {
   "codemirror_mode": {
    "name": "ipython",
    "version": 3
   },
   "file_extension": ".py",
   "mimetype": "text/x-python",
   "name": "python",
   "nbconvert_exporter": "python",
   "pygments_lexer": "ipython3",
   "version": "3.11.2"
  }
 },
 "nbformat": 4,
 "nbformat_minor": 5
}

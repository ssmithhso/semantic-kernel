{
 "cells": [
  {
   "cell_type": "code",
   "execution_count": 1,
   "metadata": {},
   "outputs": [],
   "source": [
    "from services import Service\n",
    "\n",
    "# Select a service to use for this notebook (available services: OpenAI, AzureOpenAI, HuggingFace)\n",
    "selectedService = Service.AzureOpenAI"
   ]
  },
  {
   "cell_type": "code",
   "execution_count": 2,
   "metadata": {},
   "outputs": [],
   "source": [
    "from semantic_kernel.contents.chat_history import ChatHistory  # noqa: F401\n",
    "from semantic_kernel.functions.kernel_arguments import KernelArguments  # noqa: F401\n",
    "from semantic_kernel.prompt_template.input_variable import InputVariable  # noqa: F401"
   ]
  },
  {
   "cell_type": "code",
   "execution_count": 3,
   "metadata": {},
   "outputs": [],
   "source": [
    "import semantic_kernel as sk\n",
    "import semantic_kernel.connectors.ai.open_ai as sk_oai  # noqa: F401\n",
    "\n",
    "kernel = sk.Kernel()\n",
    "\n",
    "service_id = None\n",
    "if selectedService == Service.OpenAI:\n",
    "    api_key, org_id = sk.openai_settings_from_dot_env()\n",
    "    service_id = \"default\"\n",
    "    kernel.add_service(\n",
    "        sk_oai.OpenAIChatCompletion(\n",
    "            service_id=service_id, ai_model_id=\"gpt-3.5-turbo-1106\", api_key=api_key, org_id=org_id\n",
    "        ),\n",
    "    )\n",
    "elif selectedService == Service.AzureOpenAI:\n",
    "    deployment, api_key, endpoint = sk.azure_openai_settings_from_dot_env()\n",
    "    service_id = \"default\"\n",
    "    kernel.add_service(\n",
    "        sk_oai.AzureChatCompletion(\n",
    "            service_id=service_id, deployment_name=deployment, endpoint=endpoint, api_key=api_key\n",
    "        ),\n",
    "    )"
   ]
  },
  {
   "cell_type": "markdown",
   "metadata": {},
   "source": [
    "It all begins with an ask"
   ]
  },
  {
   "cell_type": "code",
   "execution_count": 4,
   "metadata": {},
   "outputs": [],
   "source": [
    "ask = \"\"\"\n",
    "Tomorrow is Valentine's day. I need to come up with a few date ideas. She speaks French so write it in French.\n",
    "Convert the text to uppercase\"\"\""
   ]
  },
  {
   "cell_type": "markdown",
   "metadata": {},
   "source": [
    "#### Providing plugins to the planner\n",
    "The planner needs to know what plugins are available to it. Here we'll give it access to the SummarizePlugin and WriterPlugin we have defined on disk. This will include many semantic functions, of which the planner will intelligently choose a subset.\n",
    "\n",
    "You can also include native functions as well. Here we'll add the TextPlugin."
   ]
  },
  {
   "cell_type": "code",
   "execution_count": 5,
   "metadata": {},
   "outputs": [],
   "source": [
    "from semantic_kernel.core_plugins.text_plugin import TextPlugin\n",
    "\n",
    "plugins_directory = \"../../samples/plugins/\"\n",
    "summarize_plugin = kernel.import_plugin_from_prompt_directory(plugins_directory, \"SummarizePlugin\")\n",
    "writer_plugin = kernel.import_plugin_from_prompt_directory(plugins_directory, \"WriterPlugin\")\n",
    "text_plugin = kernel.import_plugin_from_object(TextPlugin(), \"TextPlugin\")"
   ]
  },
  {
   "cell_type": "markdown",
   "metadata": {},
   "source": [
    "#### Basic Planner\n",
    "Let's start by taking a look at a basic planner. The BasicPlanner produces a JSON-based plan that aims to solve the provided ask sequentially and evaluated in order."
   ]
  },
  {
   "cell_type": "code",
   "execution_count": 6,
   "metadata": {},
   "outputs": [],
   "source": [
    "from semantic_kernel.planners.basic_planner import BasicPlanner\n",
    "\n",
    "planner = BasicPlanner(service_id)"
   ]
  },
  {
   "cell_type": "code",
   "execution_count": 7,
   "metadata": {},
   "outputs": [],
   "source": [
    "basic_plan = await planner.create_plan(ask, kernel)"
   ]
  },
  {
   "cell_type": "code",
   "execution_count": 8,
   "metadata": {},
   "outputs": [
    {
     "name": "stdout",
     "output_type": "stream",
     "text": [
      "{\n",
      "    \"input\": \"Valentine's Day Date Ideas\",\n",
      "    \"subtasks\": [\n",
      "        {\"function\": \"WriterPlugin.Brainstorm\"},\n",
      "        {\"function\": \"WriterPlugin.Translate\", \"args\": {\"language\": \"French\"}},\n",
      "        {\"function\": \"TextPlugin.uppercase\"}\n",
      "    ]\n",
      "}\n"
     ]
    }
   ],
   "source": [
    "print(basic_plan.generated_plan)"
   ]
  },
  {
   "cell_type": "markdown",
   "metadata": {},
   "source": [
    "You can see that the Planner took my ask and converted it into an JSON-based plan detailing how the AI would go about solving this task, making use of the plugins that the Kernel has available to it.\n",
    "\n",
    "As you can see in the above plan, the AI has determined which functions to call in order to fulfill the user ask. The output of each step of the plan becomes the input to the next function.\n",
    "\n",
    "Let's also define an inline plugin and have it be available to the Planner. Be sure to give it a function name and plugin name.\n",
    "\n",
    "Let's update our ask using this new plugin"
   ]
  },
  {
   "cell_type": "code",
   "execution_count": 9,
   "metadata": {},
   "outputs": [
    {
     "name": "stdout",
     "output_type": "stream",
     "text": [
      "Plugin: SummarizePlugin, Function: MakeAbstractReadable\n",
      "Plugin: SummarizePlugin, Function: Notegen\n",
      "Plugin: SummarizePlugin, Function: Summarize\n",
      "Plugin: SummarizePlugin, Function: Topics\n",
      "Plugin: WriterPlugin, Function: Acronym\n",
      "Plugin: WriterPlugin, Function: AcronymGenerator\n",
      "Plugin: WriterPlugin, Function: AcronymReverse\n",
      "Plugin: WriterPlugin, Function: Brainstorm\n",
      "Plugin: WriterPlugin, Function: EmailGen\n",
      "Plugin: WriterPlugin, Function: EmailTo\n",
      "Plugin: WriterPlugin, Function: EnglishImprover\n",
      "Plugin: WriterPlugin, Function: NovelChapter\n",
      "Plugin: WriterPlugin, Function: NovelChapterWithNotes\n",
      "Plugin: WriterPlugin, Function: NovelOutline\n",
      "Plugin: WriterPlugin, Function: Rewrite\n",
      "Plugin: WriterPlugin, Function: ShortPoem\n",
      "Plugin: WriterPlugin, Function: StoryGen\n",
      "Plugin: WriterPlugin, Function: TellMeMore\n",
      "Plugin: WriterPlugin, Function: Translate\n",
      "Plugin: WriterPlugin, Function: TwoSentenceSummary\n",
      "Plugin: WriterPlugin, Function: Shakespeare\n",
      "Plugin: TextPlugin, Function: lowercase\n",
      "Plugin: TextPlugin, Function: trim\n",
      "Plugin: TextPlugin, Function: trim_end\n",
      "Plugin: TextPlugin, Function: trim_start\n",
      "Plugin: TextPlugin, Function: uppercase\n"
     ]
    }
   ],
   "source": [
    "from semantic_kernel.functions.kernel_function_from_prompt import KernelFunctionFromPrompt\n",
    "\n",
    "kernel = sk.Kernel()\n",
    "service_id = \"default\"\n",
    "if selectedService == Service.OpenAI:\n",
    "    api_key, org_id = sk.openai_settings_from_dot_env()\n",
    "    kernel.add_service(\n",
    "        sk_oai.OpenAIChatCompletion(\n",
    "            service_id=service_id, ai_model_id=\"gpt-3.5-turbo-1106\", api_key=api_key, org_id=org_id\n",
    "        ),\n",
    "    )\n",
    "elif selectedService == Service.AzureOpenAI:\n",
    "    deployment, api_key, endpoint = sk.azure_openai_settings_from_dot_env()\n",
    "    kernel.add_service(\n",
    "        sk_oai.AzureChatCompletion(\n",
    "            service_id=service_id, deployment_name=deployment, endpoint=endpoint, api_key=api_key\n",
    "        ),\n",
    "    )\n",
    "\n",
    "plugins_directory = \"../../samples/plugins/\"\n",
    "summarize_plugin = kernel.import_plugin_from_prompt_directory(plugins_directory, \"SummarizePlugin\")\n",
    "writer_plugin = kernel.import_plugin_from_prompt_directory(plugins_directory, \"WriterPlugin\")\n",
    "text_plugin = kernel.import_plugin_from_object(TextPlugin(), \"TextPlugin\")\n",
    "\n",
    "shakespeare_func = KernelFunctionFromPrompt(\n",
    "    function_name=\"Shakespeare\",\n",
    "    plugin_name=\"WriterPlugin\",\n",
    "    prompt=\"\"\"\n",
    "{{$input}}\n",
    "\n",
    "Rewrite the above in the style of Shakespeare.\n",
    "\"\"\",\n",
    "    prompt_execution_settings=sk_oai.OpenAIChatPromptExecutionSettings(\n",
    "        service_id=service_id,\n",
    "        max_tokens=2000,\n",
    "        temperature=0.8,\n",
    "    ),\n",
    ")\n",
    "kernel.plugins.add_functions_to_plugin([shakespeare_func], \"WriterPlugin\")\n",
    "\n",
    "for plugin in kernel.plugins:\n",
    "    for function in plugin.functions.values():\n",
    "        print(f\"Plugin: {plugin.name}, Function: {function.name}\")"
   ]
  },
  {
   "cell_type": "code",
   "execution_count": 10,
   "metadata": {},
   "outputs": [],
   "source": [
    "planner = BasicPlanner(service_id)\n",
    "\n",
    "ask = \"\"\"\n",
    "Tomorrow is Valentine's day. I need to come up with a few short poems.\n",
    "She likes Shakespeare so write using his style. She speaks French so write it in French.\n",
    "Convert the text to uppercase and then please \"\"\"\n",
    "\n",
    "new_plan = await planner.create_plan(goal=ask, kernel=kernel)"
   ]
  },
  {
   "cell_type": "code",
   "execution_count": 11,
   "metadata": {},
   "outputs": [
    {
     "name": "stdout",
     "output_type": "stream",
     "text": [
      "{\n",
      "    \"input\": \"Valentine's Day Short Poems\",\n",
      "    \"subtasks\": [\n",
      "        {\"function\": \"WriterPlugin.Brainstorm\"},\n",
      "        {\"function\": \"WriterPlugin.Shakespeare\"},\n",
      "        {\"function\": \"WriterPlugin.Translate\", \"args\": {\"language\": \"French\"}},\n",
      "        {\"function\": \"TextPlugin.uppercase\"}\n",
      "    ]\n",
      "}\n"
     ]
    }
   ],
   "source": [
    "print(new_plan.generated_plan)"
   ]
  },
  {
   "cell_type": "markdown",
   "metadata": {},
   "source": [
    "#### Executing the plan\n",
    "Now that we have a plan, let's try to execute it! The Planner has a function called execute_plan."
   ]
  },
  {
   "cell_type": "code",
   "execution_count": 12,
   "metadata": {},
   "outputs": [
    {
     "name": "stderr",
     "output_type": "stream",
     "text": [
      "Variable `Symbols.VAR_PREFIX: INPUT` not found in the KernelArguments\n"
     ]
    }
   ],
   "source": [
    "results = await planner.execute_plan(new_plan, kernel)"
   ]
  },
  {
   "cell_type": "code",
   "execution_count": 13,
   "metadata": {},
   "outputs": [
    {
     "name": "stdout",
     "output_type": "stream",
     "text": [
      "1. EMBARQUEZ-VOUS DANS UN NOUVEAU RÉGIME DE SANTÉ, ENTRELAÇANT À LA FOIS LE RYTHME RAPIDE DU CŒUR ET LE RENFORCEMENT DE VOS MUSCLES.\n",
      "2. IMAGINEZ UNE ESCAPADE DE WEEK-END VERS UNE COMMUNE OU UN HAMEAU VOISIN ENCORE INCONNU À VOS YEUX.\n",
      "3. DÉVELOPPEZ UN NOUVEAU MÉTIER, QUE CE SOIT LE TRICOTAGE DE LA LAINE OU LE DÉCHIFFREMENT DES CODES.\n",
      "4. PARCOUREZ UN LIVRE D'UNE CATÉGORIE SOUVENT PAS VOTRE CHOIX.\n",
      "5. OFFREZ VOTRE SERVICE À UNE ŒUVRE DE CHARITÉ LOCALE OU À UN RASSEMBLEMENT COMMUNAUTAIRE FESTIF.\n",
      "6. EXPÉRIMENTEZ UNE NOUVELLE RECETTE À CHAQUE AUBE DE LA SEMAINE.\n",
      "7. CRÉEZ UN MODESTE JARDIN D'HERBES POUR VOTRE CUISINE.\n",
      "8. ASSISTEZ À UN COURS SUR L'ART DE CAPTURER LA LUMIÈRE ET LES OMBRES.\n",
      "9. COMMENCEZ UNE CHRONIQUE EN LIGNE DÉDIÉE À UN SUJET QUI ENFLAMME VOTRE PASSION.\n",
      "10. RASSEMBLEZ VOS CONCITOYENS POUR UN GRAND NETTOYAGE OU UN ÉVÉNEMENT DE RECYCLAGE AU SEIN DE VOTRE COMMUNAUTÉ.\n",
      "##FIN##\n"
     ]
    }
   ],
   "source": [
    "print(results)"
   ]
  },
  {
   "cell_type": "markdown",
   "metadata": {},
   "source": [
    "#### Sequential Planner\n",
    "The sequential planner is an XML-based step-by-step planner. You can see the prompt used for it here (https://github.com/microsoft/semantic-kernel/blob/main/python/semantic_kernel/planners/sequential_planner/Plugins/SequentialPlanning/skprompt.txt)"
   ]
  },
  {
   "cell_type": "code",
   "execution_count": 14,
   "metadata": {},
   "outputs": [],
   "source": [
    "from semantic_kernel.planners import SequentialPlanner\n",
    "\n",
    "planner = SequentialPlanner(kernel, service_id)"
   ]
  },
  {
   "cell_type": "code",
   "execution_count": 15,
   "metadata": {},
   "outputs": [
    {
     "name": "stderr",
     "output_type": "stream",
     "text": [
      "Error parsing XML of prompt: mismatched tag: line 166, column 80\n"
     ]
    }
   ],
   "source": [
    "sequential_plan = await planner.create_plan(goal=ask)"
   ]
  },
  {
   "cell_type": "markdown",
   "metadata": {},
   "source": [
    "To see the steps that the Sequential Planner will take, we can iterate over them and print their descriptions"
   ]
  },
  {
   "cell_type": "code",
   "execution_count": 16,
   "metadata": {},
   "outputs": [
    {
     "name": "stdout",
     "output_type": "stream",
     "text": [
      "Turn a scenario into a short and entertaining poem. : {'execution_settings': {}}\n",
      "Turn a scenario into a short and entertaining poem. : {'execution_settings': {}}\n",
      "Turn a scenario into a short and entertaining poem. : {'execution_settings': {}}\n",
      "None : {'execution_settings': {}}\n",
      "None : {'execution_settings': {}}\n",
      "None : {'execution_settings': {}}\n",
      "Translate the input into a language of your choice : {'execution_settings': {}}\n",
      "Translate the input into a language of your choice : {'execution_settings': {}}\n",
      "Translate the input into a language of your choice : {'execution_settings': {}}\n",
      "Convert a string to uppercase. : {'execution_settings': {}}\n",
      "Convert a string to uppercase. : {'execution_settings': {}}\n",
      "Convert a string to uppercase. : {'execution_settings': {}}\n"
     ]
    }
   ],
   "source": [
    "for step in sequential_plan._steps:\n",
    "    print(step.description, \":\", step._state.__dict__)"
   ]
  },
  {
   "cell_type": "markdown",
   "metadata": {},
   "source": [
    "Let's ask the sequential planner to execute the plan."
   ]
  },
  {
   "cell_type": "code",
   "execution_count": 17,
   "metadata": {},
   "outputs": [],
   "source": [
    "result = await sequential_plan.invoke(kernel)"
   ]
  },
  {
   "cell_type": "code",
   "execution_count": 18,
   "metadata": {},
   "outputs": [
    {
     "name": "stdout",
     "output_type": "stream",
     "text": [
      "SES YEUX SE FIXAIENT FERMEMENT SUR LES ESPRITS,\n",
      "MA PRÉSENCE, À SA VUE, N'AVAIT AUCUN MÉRITE,\n",
      "HÉLAS, L'ATTENTION DE MON AMOUR N'ÉTAIT QUE LÉGÈRE, EN CETTE NUIT DE SAINT-VALENTIN!\n",
      "\n",
      "AVEC UN SOURIRE MALIN, ELLE SIROTAIT LE BREUVAGE,\n",
      "SES MOUSTACHES, D'OREILLE À OREILLE, TREMPÉES,\n",
      "AVEC UN SOUPIR LOURD ET UN VISAGE DE DÉDAIN,\n",
      "JE LA REGARDAIS CONSOMMER LA PLUIE DE LA BIÈRE BRUNE.\n"
     ]
    }
   ],
   "source": [
    "print(result)"
   ]
  },
  {
   "cell_type": "markdown",
   "metadata": {},
   "source": [
    "##### Stepwise Planner\n",
    "Stepwise Planner is based off the paper from MRKL (Modular Reasoning, Knowledge and Language) and is similar to other papers like ReACT (Reasoning and Acting in Language Models). At the core, the stepwise planner allows for the AI to form \"thoughts\" and \"observations\" and execute actions based off those to achieve a user's goal. This continues until all required functions are complete and a final output is generated.\n",
    "\n",
    "See a video walkthrough of Stepwise Planner here.\n",
    "\n",
    "Let's create a Bing Search native plugin that we can pass in to the Kernel.\n",
    "\n",
    "Make sure you have a Bing Search API key in your .env file\n",
    "\n",
    "(https://www.microsoft.com/en-us/bing/apis/bing-web-search-api)"
   ]
  },
  {
   "cell_type": "code",
   "execution_count": 19,
   "metadata": {},
   "outputs": [
    {
     "data": {
      "text/plain": [
       "KernelPlugin(name='WebSearch', description=None, functions={'search': KernelFunctionFromMethod(metadata=KernelFunctionMetadata(name='search', plugin_name='WebSearch', description='Performs a web search for a given query', parameters=[KernelParameterMetadata(name='query', description='The search query', default_value=None, type_='str', is_required=True, type_object=<class 'str'>), KernelParameterMetadata(name='num_results', description='The number of search results to return', default_value=1, type_='int', is_required=False, type_object=<class 'int'>), KernelParameterMetadata(name='offset', description='The number of search results to skip', default_value=0, type_='int', is_required=False, type_object=<class 'int'>)], is_prompt=False, is_asynchronous=True, return_parameter=KernelParameterMetadata(name='return', description='', default_value=None, type_='str', is_required=True, type_object=None)), method=<bound method WebSearchEnginePlugin.search of <semantic_kernel.core_plugins.web_search_engine_plugin.WebSearchEnginePlugin object at 0x0000026278787950>>, stream_method=None)})"
      ]
     },
     "execution_count": 19,
     "metadata": {},
     "output_type": "execute_result"
    }
   ],
   "source": [
    "from semantic_kernel.connectors.search_engine import BingConnector\n",
    "from semantic_kernel.core_plugins import WebSearchEnginePlugin\n",
    "\n",
    "BING_API_KEY = sk.bing_search_settings_from_dot_env()\n",
    "connector = BingConnector(BING_API_KEY)\n",
    "kernel.import_plugin_from_object(WebSearchEnginePlugin(connector), plugin_name=\"WebSearch\")"
   ]
  },
  {
   "cell_type": "code",
   "execution_count": 20,
   "metadata": {},
   "outputs": [
    {
     "data": {
      "text/plain": [
       "KernelPlugin(name='math', description=None, functions={'Add': KernelFunctionFromMethod(metadata=KernelFunctionMetadata(name='Add', plugin_name='math', description='Returns the Addition result of the values provided.', parameters=[KernelParameterMetadata(name='input', description='the first number to add', default_value=None, type_='int', is_required=True, type_object=<class 'int'>), KernelParameterMetadata(name='amount', description='the second number to add', default_value=None, type_='int', is_required=True, type_object=<class 'int'>)], is_prompt=False, is_asynchronous=False, return_parameter=KernelParameterMetadata(name='return', description='the output is a number', default_value=None, type_='int', is_required=True, type_object=None)), method=<bound method MathPlugin.add of <semantic_kernel.core_plugins.math_plugin.MathPlugin object at 0x0000026278647450>>, stream_method=None), 'Subtract': KernelFunctionFromMethod(metadata=KernelFunctionMetadata(name='Subtract', plugin_name='math', description='Subtracts value to a value', parameters=[KernelParameterMetadata(name='input', description='the first number', default_value=None, type_='int', is_required=True, type_object=<class 'int'>), KernelParameterMetadata(name='amount', description='the number to subtract', default_value=None, type_='int', is_required=True, type_object=<class 'int'>)], is_prompt=False, is_asynchronous=False, return_parameter=KernelParameterMetadata(name='return', description='', default_value=None, type_='int', is_required=True, type_object=None)), method=<bound method MathPlugin.subtract of <semantic_kernel.core_plugins.math_plugin.MathPlugin object at 0x0000026278647450>>, stream_method=None)})"
      ]
     },
     "execution_count": 20,
     "metadata": {},
     "output_type": "execute_result"
    }
   ],
   "source": [
    "from semantic_kernel.core_plugins.math_plugin import MathPlugin\n",
    "from semantic_kernel.core_plugins.time_plugin import TimePlugin\n",
    "\n",
    "kernel.import_plugin_from_object(TimePlugin(), \"time\")\n",
    "kernel.import_plugin_from_object(MathPlugin(), \"math\")"
   ]
  },
  {
   "cell_type": "code",
   "execution_count": 21,
   "metadata": {},
   "outputs": [
    {
     "name": "stderr",
     "output_type": "stream",
     "text": [
      "Overwriting plugin \"StepwisePlanner\" in collection\n"
     ]
    }
   ],
   "source": [
    "from semantic_kernel.planners.stepwise_planner import StepwisePlanner, StepwisePlannerConfig\n",
    "\n",
    "planner = StepwisePlanner(kernel, StepwisePlannerConfig(max_iterations=10, min_iteration_time_ms=1000))"
   ]
  },
  {
   "cell_type": "code",
   "execution_count": 22,
   "metadata": {},
   "outputs": [],
   "source": [
    "ask = \"\"\"How many total championships combined do the top 5 teams in the NBA have? And which teams are they?\"\"\"\n",
    "\n",
    "plan = planner.create_plan(goal=ask)"
   ]
  },
  {
   "cell_type": "code",
   "execution_count": 23,
   "metadata": {},
   "outputs": [
    {
     "name": "stdout",
     "output_type": "stream",
     "text": [
      "<semantic_kernel.planners.plan.Plan object at 0x00000262784F1810>\n"
     ]
    }
   ],
   "source": [
    "print(plan)"
   ]
  },
  {
   "cell_type": "code",
   "execution_count": 24,
   "metadata": {},
   "outputs": [
    {
     "name": "stderr",
     "output_type": "stream",
     "text": [
      "Error parsing XML of prompt: mismatched tag: line 273, column 101\n",
      "Error parsing XML of prompt: mismatched tag: line 280, column 198\n"
     ]
    }
   ],
   "source": [
    "result = await plan.invoke(kernel)"
   ]
  },
  {
   "cell_type": "code",
   "execution_count": 25,
   "metadata": {},
   "outputs": [
    {
     "name": "stdout",
     "output_type": "stream",
     "text": [
      "The top 5 teams in the NBA, which are the Boston Celtics, Los Angeles Lakers, Chicago Bulls, Golden State Warriors, and San Antonio Spurs, have a combined total of 51 championships.\n"
     ]
    }
   ],
   "source": [
    "print(result)"
   ]
  },
  {
   "cell_type": "code",
   "execution_count": 26,
   "metadata": {},
   "outputs": [
    {
     "name": "stdout",
     "output_type": "stream",
     "text": [
      "Step: 0\n",
      "Description: Execute a plan\n",
      "Function: StepwisePlanner.ExecutePlan\n",
      "  Output: The top 5 teams in the NBA, which are the Boston Celtics, Los Angeles Lakers, Chicago Bulls, Golden State Warriors, and San Antonio Spurs, have a combined total of 51 championships.\n"
     ]
    }
   ],
   "source": [
    "for index, step in enumerate(plan._steps):\n",
    "    print(\"Step:\", index)\n",
    "    print(\"Description:\", step.description)\n",
    "    print(\"Function:\", step.plugin_name + \".\" + step._function.name)\n",
    "    print(f\"  Output: {','.join(str(res) for res in result.metadata['results'])}\")"
   ]
  }
 ],
 "metadata": {
  "kernelspec": {
   "display_name": ".venv",
   "language": "python",
   "name": "python3"
  },
  "language_info": {
   "codemirror_mode": {
    "name": "ipython",
    "version": 3
   },
   "file_extension": ".py",
   "mimetype": "text/x-python",
   "name": "python",
   "nbconvert_exporter": "python",
   "pygments_lexer": "ipython3",
   "version": "3.11.2"
  }
 },
 "nbformat": 4,
 "nbformat_minor": 2
}
